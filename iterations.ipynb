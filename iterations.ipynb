{
 "cells": [
  {
   "cell_type": "code",
   "id": "initial_id",
   "metadata": {
    "collapsed": true,
    "ExecuteTime": {
     "end_time": "2024-11-10T14:22:53.642061Z",
     "start_time": "2024-11-10T14:22:53.637791Z"
    }
   },
   "source": [
    "data = [\n",
    "    {\n",
    "        \"name\": \"pawel\",\n",
    "        \"city\": \"krakow\",\n",
    "        \"age\": 39,\n",
    "        \"hobbies\": [\"js\", \"python\", \"drugs\"]\n",
    "    },\n",
    "    {\n",
    "        \"name\": \"joanna\",\n",
    "        \"city\": \"krakow\",\n",
    "        \"age\": 32,\n",
    "        \"hobbies\": [\"movies\", \"books\", \"food\"]\n",
    "    },\n",
    "    {\n",
    "        \"name\": \"igor\",\n",
    "        \"city\": \"wroclaw\",\n",
    "        \"age\": 31,\n",
    "        \"hobbies\": [\"anime\", \"games\", \"movies\"]\n",
    "    },\n",
    "    {\n",
    "        \"name\": \"dawid\",\n",
    "        \"city\": \"wroclaw\",\n",
    "        \"age\": 43,\n",
    "        \"hobbies\": [\"film\", \"music\", \"bike\"]\n",
    "    },\n",
    "    {\n",
    "        \"name\": \"piotr\",\n",
    "        \"city\": \"warszawa\",\n",
    "        \"age\": 35,\n",
    "        \"hobbies\": ['wspinaczka', 'komputery', 'anime']\n",
    "    },\n",
    "    {\n",
    "        \"name\": \"tomek\",\n",
    "        \"city\": \"warszawa\",\n",
    "        \"age\": 38,\n",
    "        \"hobbies\": [\"shooting\", \"sailing\", \"martial arts\"]\n",
    "    },\n",
    "    {\n",
    "        \"name\": \"rafal\",\n",
    "        \"city\": \"warszawa\",\n",
    "        \"age\": 28,\n",
    "        \"hobbies\": [\"cars\", \"IT\"]\n",
    "    },\n",
    "    {\n",
    "        \"name\": \"mateusz\",\n",
    "        \"city\": \"wroclaw\",\n",
    "        \"age\": 30,\n",
    "        \"hobbies\": [\"bjj\", \"python\", \"java\"]\n",
    "    },\n",
    "    {\n",
    "        \"name\": \"adrian\",\n",
    "        \"city\": \"dabrowa gornicza\",\n",
    "        \"age\": 33,\n",
    "        \"hobbies\": [\"reading\", \"video games\", \"chemistry\", \"physics\", \"boardgames\", \"shooting\"]\n",
    "    },\n",
    "    {\n",
    "        \"name\": \"cezary\",\n",
    "        \"city\": \"kielce\",\n",
    "        \"age\": 33,\n",
    "        \"hobbies\": [\"programming\", \"sport shooting\", \"paper models\", \"and more\"],\n",
    "    },\n",
    "    {\n",
    "        \"name\": \"szymon\",\n",
    "        \"city\": \"wroclaw\",\n",
    "        \"age\": 30,\n",
    "        \"hobbies\": [\"crypto\", \"podcasts\", \"games\"]\n",
    "    },\n",
    "    {\n",
    "        'name': 'piotr',\n",
    "        'city': 'warszawa',\n",
    "        'age': 50,\n",
    "        'hobbies': ['python', 'snorkeling', 'traveling']\n",
    "    },\n",
    "    {\n",
    "        \"name\": \"igor\",\n",
    "        \"city\": \"warszawa\",\n",
    "        \"age\": 34,\n",
    "        \"hobbies\": [\"golf\", \"music\", \"art\"]\n",
    "    },\n",
    "    {\n",
    "        \"name\": \"marcin\",\n",
    "        \"city\": \"krakow\",\n",
    "        \"age\": 40,\n",
    "        \"hobbies\": [\"python\", \"ds\", \"sleep\"]\n",
    "    },\n",
    "    {\n",
    "        \"name\": \"kasia\",\n",
    "        \"city\": \"krakow\",\n",
    "        \"age\": 35,\n",
    "        \"hobbies\": [\"music\"]\n",
    "    },\n",
    "    {\n",
    "        \"name\": \"mateusz\",\n",
    "        \"city\": \"dabrowa gornicza\",\n",
    "        \"age\": 31,\n",
    "        \"hobbies\": [\"filmy\"]\n",
    "    }\n",
    "]"
   ],
   "outputs": [],
   "execution_count": 7
  },
  {
   "metadata": {},
   "cell_type": "code",
   "outputs": [],
   "execution_count": null,
   "source": "# średnia wieku wszystkich osób",
   "id": "764bc852dee57d07"
  },
  {
   "metadata": {},
   "cell_type": "markdown",
   "source": [
    "digits = [1, 2, 3]\n",
    "# map(callable, iterable)\n",
    "list(map(lambda digit: digit * 2, digits))\n",
    "def double_number(digit):\n",
    "    return digit * 2\n",
    "    \n",
    "list(map(double_number, digits))\n"
   ],
   "id": "8e81db7161aa2738"
  },
  {
   "metadata": {
    "ExecuteTime": {
     "end_time": "2024-11-10T12:47:03.015631Z",
     "start_time": "2024-11-10T12:47:03.011075Z"
    }
   },
   "cell_type": "code",
   "source": "%lsmagic",
   "id": "f201d671e95d04d1",
   "outputs": [
    {
     "data": {
      "text/plain": [
       "Available line magics:\n",
       "%alias  %alias_magic  %autoawait  %autocall  %automagic  %autosave  %bookmark  %cat  %cd  %clear  %code_wrap  %colors  %conda  %config  %connect_info  %cp  %debug  %dhist  %dirs  %doctest_mode  %ed  %edit  %env  %gui  %hist  %history  %killbgscripts  %ldir  %less  %lf  %lk  %ll  %load  %load_ext  %loadpy  %logoff  %logon  %logstart  %logstate  %logstop  %ls  %lsmagic  %lx  %macro  %magic  %mamba  %man  %matplotlib  %micromamba  %mkdir  %more  %mv  %notebook  %page  %pastebin  %pdb  %pdef  %pdoc  %pfile  %pinfo  %pinfo2  %pip  %popd  %pprint  %precision  %prun  %psearch  %psource  %pushd  %pwd  %pycat  %pylab  %qtconsole  %quickref  %recall  %rehashx  %reload_ext  %rep  %rerun  %reset  %reset_selective  %rm  %rmdir  %run  %save  %sc  %set_env  %store  %sx  %system  %tb  %time  %timeit  %unalias  %unload_ext  %uv  %who  %who_ls  %whos  %xdel  %xmode\n",
       "\n",
       "Available cell magics:\n",
       "%%!  %%HTML  %%SVG  %%bash  %%capture  %%code_wrap  %%debug  %%file  %%html  %%javascript  %%js  %%latex  %%markdown  %%perl  %%prun  %%pypy  %%python  %%python2  %%python3  %%ruby  %%script  %%sh  %%svg  %%sx  %%system  %%time  %%timeit  %%writefile\n",
       "\n",
       "Automagic is ON, % prefix IS NOT needed for line magics."
      ],
      "application/json": {
       "line": {
        "automagic": "AutoMagics",
        "autocall": "AutoMagics",
        "alias_magic": "BasicMagics",
        "lsmagic": "BasicMagics",
        "magic": "BasicMagics",
        "page": "BasicMagics",
        "pprint": "BasicMagics",
        "colors": "BasicMagics",
        "xmode": "BasicMagics",
        "quickref": "BasicMagics",
        "doctest_mode": "BasicMagics",
        "gui": "BasicMagics",
        "precision": "BasicMagics",
        "notebook": "BasicMagics",
        "save": "CodeMagics",
        "pastebin": "CodeMagics",
        "loadpy": "CodeMagics",
        "load": "CodeMagics",
        "edit": "KernelMagics",
        "config": "ConfigMagics",
        "prun": "ExecutionMagics",
        "pdb": "ExecutionMagics",
        "debug": "ExecutionMagics",
        "tb": "ExecutionMagics",
        "run": "ExecutionMagics",
        "timeit": "ExecutionMagics",
        "time": "ExecutionMagics",
        "macro": "ExecutionMagics",
        "code_wrap": "ExecutionMagics",
        "load_ext": "ExtensionMagics",
        "unload_ext": "ExtensionMagics",
        "reload_ext": "ExtensionMagics",
        "history": "HistoryMagics",
        "recall": "HistoryMagics",
        "rerun": "HistoryMagics",
        "logstart": "LoggingMagics",
        "logstop": "LoggingMagics",
        "logoff": "LoggingMagics",
        "logon": "LoggingMagics",
        "logstate": "LoggingMagics",
        "pinfo": "NamespaceMagics",
        "pinfo2": "NamespaceMagics",
        "pdef": "NamespaceMagics",
        "pdoc": "NamespaceMagics",
        "psource": "NamespaceMagics",
        "pfile": "NamespaceMagics",
        "psearch": "NamespaceMagics",
        "who_ls": "NamespaceMagics",
        "who": "NamespaceMagics",
        "whos": "NamespaceMagics",
        "reset": "NamespaceMagics",
        "reset_selective": "NamespaceMagics",
        "xdel": "NamespaceMagics",
        "alias": "OSMagics",
        "unalias": "OSMagics",
        "rehashx": "OSMagics",
        "pwd": "OSMagics",
        "cd": "OSMagics",
        "env": "OSMagics",
        "set_env": "OSMagics",
        "pushd": "OSMagics",
        "popd": "OSMagics",
        "dirs": "OSMagics",
        "dhist": "OSMagics",
        "sc": "OSMagics",
        "sx": "OSMagics",
        "system": "OSMagics",
        "bookmark": "OSMagics",
        "pycat": "OSMagics",
        "pip": "PackagingMagics",
        "conda": "PackagingMagics",
        "mamba": "PackagingMagics",
        "micromamba": "PackagingMagics",
        "uv": "PackagingMagics",
        "matplotlib": "PylabMagics",
        "pylab": "PylabMagics",
        "killbgscripts": "ScriptMagics",
        "autoawait": "AsyncMagics",
        "ed": "Other",
        "hist": "Other",
        "rep": "Other",
        "clear": "KernelMagics",
        "less": "KernelMagics",
        "more": "KernelMagics",
        "man": "KernelMagics",
        "connect_info": "KernelMagics",
        "qtconsole": "KernelMagics",
        "autosave": "KernelMagics",
        "mkdir": "Other",
        "rmdir": "Other",
        "mv": "Other",
        "rm": "Other",
        "cp": "Other",
        "cat": "Other",
        "ls": "Other",
        "ll": "Other",
        "lf": "Other",
        "lk": "Other",
        "ldir": "Other",
        "lx": "Other",
        "store": "StoreMagics"
       },
       "cell": {
        "js": "DisplayMagics",
        "javascript": "DisplayMagics",
        "latex": "DisplayMagics",
        "svg": "DisplayMagics",
        "html": "DisplayMagics",
        "markdown": "DisplayMagics",
        "prun": "ExecutionMagics",
        "debug": "ExecutionMagics",
        "timeit": "ExecutionMagics",
        "time": "ExecutionMagics",
        "capture": "ExecutionMagics",
        "code_wrap": "ExecutionMagics",
        "sx": "OSMagics",
        "system": "OSMagics",
        "!": "OSMagics",
        "writefile": "OSMagics",
        "script": "ScriptMagics",
        "sh": "Other",
        "bash": "Other",
        "perl": "Other",
        "ruby": "Other",
        "python": "Other",
        "python2": "Other",
        "python3": "Other",
        "pypy": "Other",
        "SVG": "Other",
        "HTML": "Other",
        "file": "Other"
       }
      }
     },
     "execution_count": 11,
     "metadata": {},
     "output_type": "execute_result"
    }
   ],
   "execution_count": 11
  },
  {
   "metadata": {
    "ExecuteTime": {
     "end_time": "2024-11-10T12:50:43.531177Z",
     "start_time": "2024-11-10T12:50:39.350888Z"
    }
   },
   "cell_type": "code",
   "source": [
    "%%timeit\n",
    "def avg_age(data_):\n",
    "    total = 0\n",
    "    for person in data_:\n",
    "        total += person['age']\n",
    "    return total / len(data_)\n",
    "    \n",
    "avg_age(data)"
   ],
   "id": "292edb7563628796",
   "outputs": [
    {
     "name": "stdout",
     "output_type": "stream",
     "text": [
      "518 ns ± 8.27 ns per loop (mean ± std. dev. of 7 runs, 1,000,000 loops each)\n"
     ]
    }
   ],
   "execution_count": 13
  },
  {
   "metadata": {
    "ExecuteTime": {
     "end_time": "2024-11-10T12:53:22.515643Z",
     "start_time": "2024-11-10T12:53:16.725630Z"
    }
   },
   "cell_type": "code",
   "source": [
    "%%timeit\n",
    "def avg_age(data_):\n",
    "    for person in data_:\n",
    "        return sum(person['age'] for person in data_) / len(data_)\n",
    "\n",
    "\n",
    "avg_age(data)"
   ],
   "id": "6256dffe28f7950a",
   "outputs": [
    {
     "name": "stdout",
     "output_type": "stream",
     "text": [
      "713 ns ± 3.73 ns per loop (mean ± std. dev. of 7 runs, 1,000,000 loops each)\n"
     ]
    }
   ],
   "execution_count": 15
  },
  {
   "metadata": {
    "ExecuteTime": {
     "end_time": "2024-11-10T12:53:31.367467Z",
     "start_time": "2024-11-10T12:53:23.447776Z"
    }
   },
   "cell_type": "code",
   "source": [
    "%%timeit\n",
    "# średnia wieku (paradygmat funkcyjny, bo chcemy użyć map)\n",
    "def avg_age(data_):\n",
    "    for person in data_:\n",
    "        return sum(map(lambda person: person['age'], data_)) / len(data_)\n",
    "\n",
    "    \n",
    "avg_age(data)"
   ],
   "id": "294d7c2c3e63e48e",
   "outputs": [
    {
     "name": "stdout",
     "output_type": "stream",
     "text": [
      "971 ns ± 7.29 ns per loop (mean ± std. dev. of 7 runs, 1,000,000 loops each)\n"
     ]
    }
   ],
   "execution_count": 16
  },
  {
   "metadata": {
    "ExecuteTime": {
     "end_time": "2024-11-10T13:00:36.470411Z",
     "start_time": "2024-11-10T13:00:36.467226Z"
    }
   },
   "cell_type": "code",
   "source": [
    "# średnia wieku osób spoza Warszawy\n",
    "def avg_age_(data_):\n",
    "    total = []\n",
    "    for person in data_:\n",
    "        if person['city'].lower() != 'warszawa':\n",
    "            total.append(person['age'])\n",
    "    return sum(total) // len(total) # dzielenie całkowite\n",
    "\n",
    "print(avg_age_(data))"
   ],
   "id": "39e8069f9f5b0079",
   "outputs": [
    {
     "name": "stdout",
     "output_type": "stream",
     "text": [
      "34\n"
     ]
    }
   ],
   "execution_count": 21
  },
  {
   "metadata": {
    "ExecuteTime": {
     "end_time": "2024-11-10T13:08:31.991942Z",
     "start_time": "2024-11-10T13:08:31.989670Z"
    }
   },
   "cell_type": "code",
   "source": [
    "def avg_age_(data_):\n",
    "    people_not_in_warsaw = tuple(map(lambda person: person['age'], filter(lambda person: person['city'].lower() != 'warszawa', data_)))\n",
    "    return sum(people_not_in_warsaw) // len(people_not_in_warsaw)"
   ],
   "id": "2516053a7720e427",
   "outputs": [],
   "execution_count": 22
  },
  {
   "metadata": {
    "ExecuteTime": {
     "end_time": "2024-11-10T13:14:08.481089Z",
     "start_time": "2024-11-10T13:14:08.478967Z"
    }
   },
   "cell_type": "code",
   "source": "from functools import reduce",
   "id": "d6721ad6c9ea37c2",
   "outputs": [],
   "execution_count": 24
  },
  {
   "metadata": {
    "ExecuteTime": {
     "end_time": "2024-11-10T13:14:24.695508Z",
     "start_time": "2024-11-10T13:14:24.692649Z"
    }
   },
   "cell_type": "code",
   "source": [
    "\n",
    "def avg_age(data_):\n",
    "    return reduce(lambda acc, ce: acc + ce[\"age\"], data_, 0) / len(data_)\n",
    "\n",
    "avg_age(data)"
   ],
   "id": "15454f818a1084b1",
   "outputs": [
    {
     "data": {
      "text/plain": [
       "35.125"
      ]
     },
     "execution_count": 27,
     "metadata": {},
     "output_type": "execute_result"
    }
   ],
   "execution_count": 27
  },
  {
   "metadata": {
    "ExecuteTime": {
     "end_time": "2024-11-10T13:23:31.720704Z",
     "start_time": "2024-11-10T13:23:31.717401Z"
    }
   },
   "cell_type": "code",
   "source": [
    "# napisz własną implementację mapa (bez lazy evaluation)\n",
    "def map_(callback, collection):\n",
    "    result = []\n",
    "    for element in collection:\n",
    "        result.append(callback(element))\n",
    "    return result\n",
    "\n",
    "map_(lambda x: x * 2, [1, 2, 3])\n",
    "    "
   ],
   "id": "7670bb353f019af6",
   "outputs": [
    {
     "data": {
      "text/plain": [
       "[2, 4, 6]"
      ]
     },
     "execution_count": 28,
     "metadata": {},
     "output_type": "execute_result"
    }
   ],
   "execution_count": 28
  },
  {
   "metadata": {
    "ExecuteTime": {
     "end_time": "2024-11-10T13:38:13.231655Z",
     "start_time": "2024-11-10T13:38:13.229126Z"
    }
   },
   "cell_type": "code",
   "source": [
    "# napisz własną implementację filter\n",
    "def filter_(callback, collection):\n",
    "    result = []\n",
    "    for item in collection:\n",
    "        if callback(item):\n",
    "            result.append(item)\n",
    "    return result"
   ],
   "id": "26c28e30c99c4dfd",
   "outputs": [],
   "execution_count": 29
  },
  {
   "metadata": {
    "ExecuteTime": {
     "end_time": "2024-11-10T14:01:21.941586Z",
     "start_time": "2024-11-10T14:01:21.939869Z"
    }
   },
   "cell_type": "code",
   "source": "# TODO reduce w domu zrobię i na pewno nie użyję AI!\n",
   "id": "95ac444810f4425",
   "outputs": [],
   "execution_count": 30
  },
  {
   "metadata": {
    "ExecuteTime": {
     "end_time": "2024-11-10T14:29:01.809722Z",
     "start_time": "2024-11-10T14:29:01.807002Z"
    }
   },
   "cell_type": "code",
   "source": [
    "# policz unikalne hobbies\n",
    "def count_unique_hobbies(people):\n",
    "    result = set()\n",
    "    for person in people:\n",
    "        for hobby in person['hobbies']:\n",
    "            result.add(hobby.lower())\n",
    "    return len(result)\n",
    "\n",
    "print(count_unique_hobbies(data))"
   ],
   "id": "396808b9e65c492d",
   "outputs": [
    {
     "name": "stdout",
     "output_type": "stream",
     "text": [
      "38\n"
     ]
    }
   ],
   "execution_count": 12
  },
  {
   "metadata": {
    "ExecuteTime": {
     "end_time": "2024-11-10T14:24:55.961487Z",
     "start_time": "2024-11-10T14:24:55.958329Z"
    }
   },
   "cell_type": "code",
   "source": [
    "# dobrze wiedzieć, ale nie używać, ten kod jest complex, ale niekoszerny(nieczytelny), wydajny (n**2)\n",
    "def count_unique_hobbies(people):\n",
    "    return len({hobby for person in people for hobby in person['hobbies']})\n",
    "count_unique_hobbies(data)\n",
    "\n"
   ],
   "id": "351f22ed028a6376",
   "outputs": [
    {
     "data": {
      "text/plain": [
       "38"
      ]
     },
     "execution_count": 10,
     "metadata": {},
     "output_type": "execute_result"
    }
   ],
   "execution_count": 10
  },
  {
   "metadata": {},
   "cell_type": "code",
   "outputs": [],
   "execution_count": null,
   "source": [
    "# ten kod jest complex, koszerny (wydajny n?, czytelny, \n",
    "def count_unique_hobbies(people):\n",
    "    return reduce(lambda acc, person: acc | set(person['hobbies']), people, set()) "
   ],
   "id": "f1f42691d12dd4ae"
  },
  {
   "metadata": {
    "ExecuteTime": {
     "end_time": "2024-11-10T14:58:32.272378Z",
     "start_time": "2024-11-10T14:58:32.269056Z"
    }
   },
   "cell_type": "code",
   "source": [
    "# \n",
    "def create_hash(data_):\n",
    "    hashes = []\n",
    "    for person in data_:\n",
    "        text = \"\"\n",
    "        for value in person.values():\n",
    "            if isinstance(value, list):\n",
    "                for item in value:\n",
    "                    text += item[:2]\n",
    "            else:\n",
    "                text += str(value)[:2]\n",
    "                \n",
    "        hashes.append(text.lower())\n",
    "        \n",
    "    return hashes\n",
    "                \n",
    "print(create_hash(data))\n",
    "        "
   ],
   "id": "4349e8daaa8521b2",
   "outputs": [
    {
     "name": "stdout",
     "output_type": "stream",
     "text": [
      "['pakr39jspydr', 'jokr32mobofo', 'igwr31angamo', 'dawr43fimubi', 'piwa35wskoan', 'towa38shsama', 'rawa28cait', 'mawr30bjpyja', 'adda33revichphbosh', 'ceki33prsppaan', 'szwr30crpoga', 'piwa50pysntr', 'igwa34gomuar', 'makr40pydssl', 'kakr35mu', 'mada31fi']\n"
     ]
    }
   ],
   "execution_count": 22
  },
  {
   "metadata": {},
   "cell_type": "code",
   "outputs": [],
   "execution_count": null,
   "source": "",
   "id": "15a2e9d838e59ffa"
  }
 ],
 "metadata": {
  "kernelspec": {
   "display_name": "Python 3",
   "language": "python",
   "name": "python3"
  },
  "language_info": {
   "codemirror_mode": {
    "name": "ipython",
    "version": 2
   },
   "file_extension": ".py",
   "mimetype": "text/x-python",
   "name": "python",
   "nbconvert_exporter": "python",
   "pygments_lexer": "ipython2",
   "version": "2.7.6"
  }
 },
 "nbformat": 4,
 "nbformat_minor": 5
}
