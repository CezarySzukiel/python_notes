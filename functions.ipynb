{
 "cells": [
  {
   "metadata": {},
   "cell_type": "markdown",
   "source": "# Functions",
   "id": "152913e472c38221"
  },
  {
   "metadata": {},
   "cell_type": "markdown",
   "source": [
    "- zbiór instrukcji zamkkniętych pod identyfikatorem, en: a set of instructions closed under an identifier\n",
    "- cel: reużywalność kodu, en: code reusability\n",
    "\n",
    "### Nazwa funkcji en: Function name\n",
    "- snake_case\n",
    "- nazwa powinna być opisowa/deskryptywna en: name should be descriptive\n",
    "- litery, cyfry, podkreślenia, nie może zaczynać się od cyfry en: letters, digits, underscores, cannot start with a digit"
   ],
   "id": "3a9302dbdab0219f"
  },
  {
   "metadata": {
    "ExecuteTime": {
     "end_time": "2024-11-10T10:57:12.369816Z",
     "start_time": "2024-11-10T10:57:12.367464Z"
    }
   },
   "cell_type": "code",
   "source": [
    "# Deklaracja funkcji\n",
    "def add(a, b):\n",
    "    return a + b"
   ],
   "id": "31230bc36a1e857f",
   "outputs": [],
   "execution_count": 5
  },
  {
   "metadata": {},
   "cell_type": "code",
   "outputs": [],
   "execution_count": null,
   "source": [
    "# Wywołanie funkcji en function execution\n",
    "add(1, 2)"
   ],
   "id": "b7b61deccf5900f"
  },
  {
   "metadata": {},
   "cell_type": "markdown",
   "source": "",
   "id": "e5944cdcef15bd02"
  },
  {
   "metadata": {},
   "cell_type": "markdown",
   "source": [
    "## Parametry/Agrumenty en: Parameters/Arguments\n",
    "- deklaracja - parametry en: declaration - parameters\n",
    "- wywołanie - argumenty en: execution - arguments\n",
    "\n"
   ],
   "id": "39cbb2e427e9ac16"
  },
  {
   "metadata": {},
   "cell_type": "code",
   "outputs": [],
   "execution_count": null,
   "source": [
    "def magic (a, b, c, d, e):\n",
    "    pass"
   ],
   "id": "340da197ad02ebc3"
  },
  {
   "metadata": {},
   "cell_type": "markdown",
   "source": [
    "# Argumenty poizycyjne en: Positional arguments\n",
    "magic(1, 2, 3, 4, 5)\n",
    "\n",
    "# Argumenty nazwane en: Named arguments\n",
    "magic(b=2, a=1, c=3, d=4, e=5)\n",
    "\n",
    "# Kombinacja: pozycyjne + nazwane, pozycyjne zawsze przed nazwanymi en: positional + named, positional always before named\n",
    "magic(1, 2, c=3, d=4, e=5)\n",
    "\n",
    "def magic(a, b=None):\n",
    "    pass\n",
    "\n",
    "#opcjonalne argumenty, zawsze po pozycyjnych en: optional arguments, always after positional    \n",
    "magic(1)\n",
    "magic(1, 2)"
   ],
   "id": "e6dea64fb377279"
  },
  {
   "metadata": {},
   "cell_type": "markdown",
   "source": "",
   "id": "a92e0a6043ae74e7"
  },
  {
   "metadata": {
    "ExecuteTime": {
     "end_time": "2024-11-10T11:12:35.130494Z",
     "start_time": "2024-11-10T11:12:35.127853Z"
    }
   },
   "cell_type": "code",
   "source": [
    "# default używać tykko niemodyfkowal ych typów danych -> najczęściej w python używa się None lub primitive types\n",
    "def magic_pro(item, array=[]):\n",
    "    array.append(item)\n",
    "    return array\n",
    "\n",
    "# koszerna wersja: \n",
    "def magic_pro_(item, array=None):\n",
    "    if array is None:\n",
    "        array = []\n",
    "    array.append(item)\n",
    "    return array"
   ],
   "id": "6766eca76adc5db9",
   "outputs": [],
   "execution_count": 9
  },
  {
   "metadata": {
    "ExecuteTime": {
     "end_time": "2024-11-10T11:14:47.383397Z",
     "start_time": "2024-11-10T11:14:47.379537Z"
    }
   },
   "cell_type": "code",
   "source": "magic_pro(42)",
   "id": "b1ede9f8d5ee61b4",
   "outputs": [
    {
     "data": {
      "text/plain": [
       "[42]"
      ]
     },
     "execution_count": 10,
     "metadata": {},
     "output_type": "execute_result"
    }
   ],
   "execution_count": 10
  },
  {
   "metadata": {
    "ExecuteTime": {
     "end_time": "2024-11-10T11:15:01.879484Z",
     "start_time": "2024-11-10T11:15:01.876736Z"
    }
   },
   "cell_type": "code",
   "source": "magic_pro(1, [])",
   "id": "2653d784fe76dba9",
   "outputs": [
    {
     "data": {
      "text/plain": [
       "[1]"
      ]
     },
     "execution_count": 11,
     "metadata": {},
     "output_type": "execute_result"
    }
   ],
   "execution_count": 11
  },
  {
   "metadata": {
    "ExecuteTime": {
     "end_time": "2024-11-10T11:15:13.708409Z",
     "start_time": "2024-11-10T11:15:13.705568Z"
    }
   },
   "cell_type": "code",
   "source": "magic_pro(666)",
   "id": "ed5fa23d881f181b",
   "outputs": [
    {
     "data": {
      "text/plain": [
       "[42, 666]"
      ]
     },
     "execution_count": 12,
     "metadata": {},
     "output_type": "execute_result"
    }
   ],
   "execution_count": 12
  },
  {
   "metadata": {
    "ExecuteTime": {
     "end_time": "2024-11-10T11:20:19.300040Z",
     "start_time": "2024-11-10T11:20:19.297709Z"
    }
   },
   "cell_type": "code",
   "source": [
    "def magic(*args, **kwargs):\n",
    "    print(args)\n",
    "    print(type(args)) # type to metaklasa (klasa, która tworzy klasy)\n",
    "    print(kwargs)\n",
    "    print(type(kwargs))\n",
    "    print(*args)"
   ],
   "id": "1af8910783d2bcda",
   "outputs": [],
   "execution_count": 15
  },
  {
   "metadata": {
    "ExecuteTime": {
     "end_time": "2024-11-10T11:20:21.752757Z",
     "start_time": "2024-11-10T11:20:21.750426Z"
    }
   },
   "cell_type": "code",
   "source": "magic()",
   "id": "d0f1aa34d4c4484f",
   "outputs": [
    {
     "name": "stdout",
     "output_type": "stream",
     "text": [
      "()\n",
      "<class 'tuple'>\n",
      "{}\n",
      "<class 'dict'>\n",
      "\n"
     ]
    }
   ],
   "execution_count": 16
  },
  {
   "metadata": {
    "ExecuteTime": {
     "end_time": "2024-11-10T11:20:45.091457Z",
     "start_time": "2024-11-10T11:20:45.089165Z"
    }
   },
   "cell_type": "code",
   "source": "magic(1, 2, 3)",
   "id": "1f390c0affc0179f",
   "outputs": [
    {
     "name": "stdout",
     "output_type": "stream",
     "text": [
      "(1, 2, 3)\n",
      "<class 'tuple'>\n",
      "{}\n",
      "<class 'dict'>\n",
      "1 2 3\n"
     ]
    }
   ],
   "execution_count": 17
  },
  {
   "metadata": {
    "ExecuteTime": {
     "end_time": "2024-11-10T11:21:02.524972Z",
     "start_time": "2024-11-10T11:21:02.522427Z"
    }
   },
   "cell_type": "code",
   "source": "magic(a=1, b=2, c=3)",
   "id": "2df8bd6777adc28d",
   "outputs": [
    {
     "name": "stdout",
     "output_type": "stream",
     "text": [
      "()\n",
      "<class 'tuple'>\n",
      "{'a': 1, 'b': 2, 'c': 3}\n",
      "<class 'dict'>\n",
      "\n"
     ]
    }
   ],
   "execution_count": 18
  },
  {
   "metadata": {
    "ExecuteTime": {
     "end_time": "2024-11-10T11:21:07.101453Z",
     "start_time": "2024-11-10T11:21:07.098792Z"
    }
   },
   "cell_type": "code",
   "source": "magic(1, 2, 3, a=1, b=2, c=3)",
   "id": "529c63376568ba2f",
   "outputs": [
    {
     "name": "stdout",
     "output_type": "stream",
     "text": [
      "(1, 2, 3)\n",
      "<class 'tuple'>\n",
      "{'a': 1, 'b': 2, 'c': 3}\n",
      "<class 'dict'>\n",
      "1 2 3\n"
     ]
    }
   ],
   "execution_count": 19
  },
  {
   "metadata": {
    "ExecuteTime": {
     "end_time": "2024-11-10T11:24:15.577279Z",
     "start_time": "2024-11-10T11:24:15.575392Z"
    }
   },
   "cell_type": "code",
   "source": [
    "# / - separator pozycyjnych i nazwanych, wymusza, że wszystkie argumenty przed / muszą być pozycyjne\n",
    "# * - separator nazwanych, wymusza, że wszystkie argumenty po * muszą być nazwane\n",
    "# zastosowanie: kompatybilność z c++ \n",
    "def magic(a, b, /, c, *, d, e):\n",
    "    pass"
   ],
   "id": "22d007635f154ce9",
   "outputs": [],
   "execution_count": 23
  },
  {
   "metadata": {
    "ExecuteTime": {
     "end_time": "2024-11-10T11:29:34.344723Z",
     "start_time": "2024-11-10T11:29:34.342781Z"
    }
   },
   "cell_type": "code",
   "source": [
    "magic(1, 2, 3, d=4, e=5)\n",
    "magic(1, 2, c=3, d=4, e=5)"
   ],
   "id": "6ba6b1c8863f9114",
   "outputs": [],
   "execution_count": 24
  },
  {
   "metadata": {
    "ExecuteTime": {
     "end_time": "2024-11-10T11:29:49.858580Z",
     "start_time": "2024-11-10T11:29:49.856689Z"
    }
   },
   "cell_type": "code",
   "source": "magic=(1, 2, 3, 4, 5)",
   "id": "6d9cfb0a1bcc8388",
   "outputs": [],
   "execution_count": 25
  },
  {
   "metadata": {},
   "cell_type": "code",
   "outputs": [],
   "execution_count": null,
   "source": "",
   "id": "b75ad83bb7f7a536"
  }
 ],
 "metadata": {
  "kernelspec": {
   "display_name": "Python 3 (ipykernel)",
   "language": "python",
   "name": "python3"
  },
  "language_info": {
   "codemirror_mode": {
    "name": "ipython",
    "version": 3
   },
   "file_extension": ".py",
   "mimetype": "text/x-python",
   "name": "python",
   "nbconvert_exporter": "python",
   "pygments_lexer": "ipython3",
   "version": "3.12.3"
  }
 },
 "nbformat": 4,
 "nbformat_minor": 5
}
