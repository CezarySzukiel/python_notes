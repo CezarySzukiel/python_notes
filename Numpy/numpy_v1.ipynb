{
 "cells": [
  {
   "cell_type": "code",
   "id": "initial_id",
   "metadata": {
    "collapsed": true,
    "ExecuteTime": {
     "end_time": "2024-12-02T20:33:04.502162Z",
     "start_time": "2024-12-02T20:33:04.498443Z"
    }
   },
   "source": [
    "from numpy import dtype\n",
    "import numpy as np\n",
    "    print(np.__version__)\n",
    "    \n",
    "    arr = np.array((1, 2, 3, 4, 5))\n",
    "    print(arr)\n",
    "    type(arr)\n",
    "    arr_2D = np.array([[1, 2, 3], [4, 5, 6]])\n",
    "    print(arr_2D)\n",
    "    \n",
    "    lst = [10, 20, 30, 40, 50,]\n",
    "    arr = np.array(lst, dtype=int)\n",
    "    print(arr)\n",
    "    print(arr.dtype)\n",
    "    \n",
    "    arr = np.array(lst, dtype=complex)\n",
    "    \n",
    "    arr = np.array(lst, dtype=np.int8)\n",
    "    print(arr)\n",
    "    print(arr.dtype)\n",
    "    \n",
    "    arr = np.array(lst, dtype=\"int8\")\n",
    "    print(arr)\n",
    "    print(arr.dtype)\n",
    "    \n",
    "    \n",
    "    \n",
    "    "
   ],
   "outputs": [
    {
     "name": "stdout",
     "output_type": "stream",
     "text": [
      "2.1.3\n",
      "[1 2 3 4 5]\n",
      "[[1 2 3]\n",
      " [4 5 6]]\n",
      "[10 20 30 40 50]\n",
      "int64\n",
      "[10 20 30 40 50]\n",
      "int8\n",
      "[10 20 30 40 50]\n",
      "int8\n"
     ]
    }
   ],
   "execution_count": 21
  },
  {
   "metadata": {
    "ExecuteTime": {
     "end_time": "2024-12-02T20:19:37.571026Z",
     "start_time": "2024-12-02T20:19:37.568348Z"
    }
   },
   "cell_type": "code",
   "source": [
    "names = np.array(['Ala', 'Ola', 'Ula'])\n",
    "print(names.dtype)\n",
    "# little endian, Unicode, 3znaki"
   ],
   "id": "d2cd669a4282aed0",
   "outputs": [
    {
     "name": "stdout",
     "output_type": "stream",
     "text": [
      "<U3\n"
     ]
    }
   ],
   "execution_count": 11
  },
  {
   "metadata": {
    "ExecuteTime": {
     "end_time": "2024-12-02T20:24:08.781852Z",
     "start_time": "2024-12-02T20:24:08.779570Z"
    }
   },
   "cell_type": "code",
   "source": [
    "dates = np.array(['2024-12-02', '2024-12-06'], dtype='M') # muszą być formacje iso yyyy-mm-dd\n",
    "print(dates.dtype)"
   ],
   "id": "29c7dea3a94afe65",
   "outputs": [
    {
     "name": "stdout",
     "output_type": "stream",
     "text": [
      "datetime64[D]\n"
     ]
    }
   ],
   "execution_count": 15
  },
  {
   "metadata": {},
   "cell_type": "markdown",
   "source": "### Konwersja typów",
   "id": "bb393a4fb9abfdbc"
  },
  {
   "metadata": {
    "ExecuteTime": {
     "end_time": "2024-12-02T20:26:06.803553Z",
     "start_time": "2024-12-02T20:26:06.801091Z"
    }
   },
   "cell_type": "code",
   "source": [
    "int_arr = np.array([1, 2, 3, 4, 5])\n",
    "\n",
    "# create new array\n",
    "str_arr = np.array(int_arr, dtype=\"U\")\n",
    "print(str_arr)"
   ],
   "id": "a5729262ebbd5821",
   "outputs": [
    {
     "name": "stdout",
     "output_type": "stream",
     "text": [
      "['1' '2' '3' '4' '5']\n"
     ]
    }
   ],
   "execution_count": 16
  },
  {
   "metadata": {
    "ExecuteTime": {
     "end_time": "2024-12-02T20:26:40.826074Z",
     "start_time": "2024-12-02T20:26:40.823656Z"
    }
   },
   "cell_type": "code",
   "source": [
    "float_arr = np.float32(int_arr)\n",
    "print(float_arr)"
   ],
   "id": "de914b4cd9684e1",
   "outputs": [
    {
     "name": "stdout",
     "output_type": "stream",
     "text": [
      "[1. 2. 3. 4. 5.]\n"
     ]
    }
   ],
   "execution_count": 17
  },
  {
   "metadata": {
    "ExecuteTime": {
     "end_time": "2024-12-02T20:27:29.847440Z",
     "start_time": "2024-12-02T20:27:29.844817Z"
    }
   },
   "cell_type": "code",
   "source": [
    "complex_arr = int_arr.astype(complex)\n",
    "print(complex_arr)"
   ],
   "id": "9580809d28c50de1",
   "outputs": [
    {
     "name": "stdout",
     "output_type": "stream",
     "text": [
      "[1.+0.j 2.+0.j 3.+0.j 4.+0.j 5.+0.j]\n"
     ]
    }
   ],
   "execution_count": 19
  },
  {
   "metadata": {},
   "cell_type": "markdown",
   "source": "# create empty array",
   "id": "5ff4c16dc2f2324f"
  },
  {
   "metadata": {
    "ExecuteTime": {
     "end_time": "2024-12-02T20:33:49.461754Z",
     "start_time": "2024-12-02T20:33:49.459407Z"
    }
   },
   "cell_type": "code",
   "source": [
    "empty_array = np.empty([3, 2], dtype=int)\n",
    "print(empty_array)"
   ],
   "id": "8454f827968eeb02",
   "outputs": [
    {
     "name": "stdout",
     "output_type": "stream",
     "text": [
      "[[1 2]\n",
      " [3 4]\n",
      " [5 6]]\n"
     ]
    }
   ],
   "execution_count": 23
  },
  {
   "metadata": {
    "ExecuteTime": {
     "end_time": "2024-12-02T20:37:17.696391Z",
     "start_time": "2024-12-02T20:37:17.694128Z"
    }
   },
   "cell_type": "code",
   "source": [
    "zerox_array = np.zeros([2, 2])\n",
    "print(zerox_array)"
   ],
   "id": "6fb59a5ec4c8b7f0",
   "outputs": [
    {
     "name": "stdout",
     "output_type": "stream",
     "text": [
      "[[0. 0.]\n",
      " [0. 0.]]\n"
     ]
    }
   ],
   "execution_count": 24
  },
  {
   "metadata": {
    "ExecuteTime": {
     "end_time": "2024-12-02T20:38:11.173810Z",
     "start_time": "2024-12-02T20:38:11.171125Z"
    }
   },
   "cell_type": "code",
   "source": [
    "ones_array = np.ones(5, dtype=int)\n",
    "print(ones_array)"
   ],
   "id": "64f78c0703b4764d",
   "outputs": [
    {
     "name": "stdout",
     "output_type": "stream",
     "text": [
      "[1 1 1 1 1]\n"
     ]
    }
   ],
   "execution_count": 25
  },
  {
   "metadata": {
    "ExecuteTime": {
     "end_time": "2024-12-02T20:39:01.610445Z",
     "start_time": "2024-12-02T20:39:01.607873Z"
    }
   },
   "cell_type": "code",
   "source": [
    "full_arr = np.full([3, 3], 42, dtype=int)\n",
    "print(full_arr)"
   ],
   "id": "1c8c6dd53c162d30",
   "outputs": [
    {
     "name": "stdout",
     "output_type": "stream",
     "text": [
      "[[42 42 42]\n",
      " [42 42 42]\n",
      " [42 42 42]]\n"
     ]
    }
   ],
   "execution_count": 27
  },
  {
   "metadata": {
    "ExecuteTime": {
     "end_time": "2024-12-02T20:43:03.133161Z",
     "start_time": "2024-12-02T20:43:03.130905Z"
    }
   },
   "cell_type": "code",
   "source": [
    "item = \n",
    "\n",
    "lst = [1, 2 ,3, 4, 5]\n",
    "arr = np.asarray(lst)\n",
    "print(arr)"
   ],
   "id": "fe198d968a9d90a9",
   "outputs": [
    {
     "name": "stdout",
     "output_type": "stream",
     "text": [
      "[1 2 3 4 5]\n"
     ]
    }
   ],
   "execution_count": 28
  },
  {
   "metadata": {
    "ExecuteTime": {
     "end_time": "2024-12-02T20:55:58.594937Z",
     "start_time": "2024-12-02T20:55:58.592154Z"
    }
   },
   "cell_type": "code",
   "source": [
    "lst = [1, 2 ,3, 4]\n",
    "\n",
    "iter_ob = iter(lst)\n",
    "\n",
    "arr_iter = np.fromiter(iter_ob, dtype=np.float32) # fromiter będzie działać z każdym generatorem. poza tym jeden obiekt może mieć rózne iteratory.\n",
    "print(arr_iter)"
   ],
   "id": "2aea09780fdb37a1",
   "outputs": [
    {
     "name": "stdout",
     "output_type": "stream",
     "text": [
      "[1. 2. 3. 4.]\n"
     ]
    }
   ],
   "execution_count": 30
  },
  {
   "metadata": {
    "ExecuteTime": {
     "end_time": "2024-12-02T21:07:37.053663Z",
     "start_time": "2024-12-02T21:07:37.051039Z"
    }
   },
   "cell_type": "code",
   "source": [
    "buffer_lst = b'ala ma kota i wszy'\n",
    "\n",
    "arr_buffer = np.frombuffer(buffer_lst, count=-1, offset=0, dtype='S1')\n",
    "print(arr_buffer)"
   ],
   "id": "505443e748f853c5",
   "outputs": [
    {
     "name": "stdout",
     "output_type": "stream",
     "text": [
      "[b'a' b'l' b'a' b' ' b'm' b'a' b' ' b'k' b'o' b't' b'a' b' ' b'i' b' '\n",
      " b'w' b's' b'z' b'y']\n"
     ]
    }
   ],
   "execution_count": 37
  },
  {
   "metadata": {
    "ExecuteTime": {
     "end_time": "2024-12-02T21:10:42.241727Z",
     "start_time": "2024-12-02T21:10:42.239391Z"
    }
   },
   "cell_type": "code",
   "source": [
    "np.arange(start=0, stop=10, step=.5, dtype=np.float32)\n",
    "print(arr)"
   ],
   "id": "45e1348fe585c4ce",
   "outputs": [
    {
     "name": "stdout",
     "output_type": "stream",
     "text": [
      "[1 2 3 4 5]\n"
     ]
    }
   ],
   "execution_count": 40
  },
  {
   "metadata": {
    "ExecuteTime": {
     "end_time": "2024-12-02T21:12:04.863770Z",
     "start_time": "2024-12-02T21:12:04.860869Z"
    }
   },
   "cell_type": "code",
   "source": "np.linspace(start=0, stop=100, num=5, dtype=int) # podajemu ile punktów chcemy mieć",
   "id": "8d36f37a32af422c",
   "outputs": [
    {
     "data": {
      "text/plain": [
       "array([  0,  25,  50,  75, 100])"
      ]
     },
     "execution_count": 41,
     "metadata": {},
     "output_type": "execute_result"
    }
   ],
   "execution_count": 41
  },
  {
   "metadata": {
    "ExecuteTime": {
     "end_time": "2024-12-02T21:12:51.450962Z",
     "start_time": "2024-12-02T21:12:51.447743Z"
    }
   },
   "cell_type": "code",
   "source": "np.logspace(start=0, stop=10, num=5, base=2, dtype=int) # base to podstawa logarytmu, wylicza logarytm z podstawą base",
   "id": "7ef5dd43208fae3c",
   "outputs": [
    {
     "data": {
      "text/plain": [
       "array([   1,    5,   32,  181, 1024])"
      ]
     },
     "execution_count": 42,
     "metadata": {},
     "output_type": "execute_result"
    }
   ],
   "execution_count": 42
  },
  {
   "metadata": {},
   "cell_type": "code",
   "outputs": [],
   "execution_count": null,
   "source": "",
   "id": "a1df4e1e5c890943"
  }
 ],
 "metadata": {
  "kernelspec": {
   "display_name": "Python 3",
   "language": "python",
   "name": "python3"
  },
  "language_info": {
   "codemirror_mode": {
    "name": "ipython",
    "version": 2
   },
   "file_extension": ".py",
   "mimetype": "text/x-python",
   "name": "python",
   "nbconvert_exporter": "python",
   "pygments_lexer": "ipython2",
   "version": "2.7.6"
  }
 },
 "nbformat": 4,
 "nbformat_minor": 5
}
