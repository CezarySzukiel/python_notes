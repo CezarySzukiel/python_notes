{
 "cells": [
  {
   "metadata": {},
   "cell_type": "markdown",
   "source": [
    "# Programowanie funkcyjne\n",
    "1. Pure functions\n",
    "2. First class functions \n",
    "3. Higher order functions (przyjmuję inne funkcje jako argumenty, zwracają inne funkcje)\n",
    "4. Function Composition\n",
    "5. Lambda Functions\n",
    "6. Closure (dodaje persytencji do efemerycznego świata funkcji)\n",
    "7. Recursion\n",
    "8. Lazy evaluation\n",
    "9. Immutability (nie modyfikujemy danych, tylko tworzymy nowe)\n",
    "10. Decorators\n",
    "11. Generators and Iterators\n",
    "12. Currying and Partial Application (sposób zamiany funkcji wieloparametrowych ma jednoparametrowe)\n",
    "13. Referential Transparency\n",
    "14. Streams and Pipelines (dane w czasie)\n",
    "15. Monada and Functors\n",
    "\n",
    "\n",
    "## Pure functions\n",
    "- dla tego samego inputu, dają ten sam output\n",
    "- nie może mieć site effects (nie może modyfikować nic poza funkcją, jak również poza funkcją nie może nic na nią wpływać)\n",
    "#### rodzaje side effects\n",
    "1. praca z plikami (odczytywanie też jest side effectem, bo plik może nie istnieć, może nie mieć uprawnień itp.)\n",
    "2. praca z API\n",
    "3. praca z bazą danych\n",
    "4. \n",
    "\n",
    "\n",
    "```python\n",
    "\n",
    "def ass(a, b):\n",
    "    return a + b\n",
    "\n",
    "add(1, 2) #3\n",
    "add(1, 2) #3\n",
    "```"
   ],
   "id": "e909e64189ec8cae"
  },
  {
   "metadata": {},
   "cell_type": "markdown",
   "source": [
    "### Closure\n",
    "\n",
    "Tworzenie closure:\n",
    "- minimum 2 funkcje, jedna w drugiej\n",
    "- funkcja zewnętrzna (outer) musi zwracać deklarację funkcji wewnętrznej (inner)\n",
    "- funkcja wewnętrzna (inner) musi używać czegoś (identyfikatora) z funkcji zewnętrznej (outer)\n",
    "\n",
    "Zalety:\n",
    "-persystencja (trwałość) (dodaje persystencję do efemerycznego świata wywołań funkcji)\n",
    "\n",
    "Wady: \n",
    "- potencjalnie memory-leak (wycieki pamięci)\n",
    "\n",
    "Definicja:\n",
    "- dostęp do zmiennych spoza aktualnie wykonywanego zasięgu"
   ],
   "id": "ea0ae47fe18a681a"
  },
  {
   "metadata": {},
   "cell_type": "markdown",
   "source": [
    "#### Composition\n",
    "Zachodzi, kiedy jedna funkcja przyjmuje inną funkcję, w zależności od tej drugiej funkcji dostajemy inne działanie."
   ],
   "id": "d75835bb12822ccc"
  },
  {
   "metadata": {},
   "cell_type": "markdown",
   "source": [
    "#### Decorators\n",
    "\n",
    "- Design pattern (wzorzec projektowy)\n",
    "- funkcjonalność python\n",
    "    - dekoratory funkcji (konieczne użycie closure)\n",
    "    - dekoratory class (sexy alternatywa do metaclass)\n",
    "\n",
    "Możliwość modyfikacji działania funkcji, bez zmiany jej implementacji.\n",
    "\n"
   ],
   "id": "4001f722bfc76fc3"
  },
  {
   "metadata": {},
   "cell_type": "markdown",
   "source": "",
   "id": "1ac64e37c4be5272"
  },
  {
   "metadata": {},
   "cell_type": "markdown",
   "source": "",
   "id": "18cc8cf432fb6689"
  },
  {
   "metadata": {},
   "cell_type": "markdown",
   "source": "",
   "id": "5be8aa2a52d9b89b"
  },
  {
   "metadata": {},
   "cell_type": "markdown",
   "source": "",
   "id": "2e5c10e998b65082"
  }
 ],
 "metadata": {
  "kernelspec": {
   "display_name": "Python 3",
   "language": "python",
   "name": "python3"
  },
  "language_info": {
   "codemirror_mode": {
    "name": "ipython",
    "version": 2
   },
   "file_extension": ".py",
   "mimetype": "text/x-python",
   "name": "python",
   "nbconvert_exporter": "python",
   "pygments_lexer": "ipython2",
   "version": "2.7.6"
  }
 },
 "nbformat": 4,
 "nbformat_minor": 5
}
